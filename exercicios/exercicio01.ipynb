{
 "cells": [
  {
   "cell_type": "markdown",
   "metadata": {
    "collapsed": true,
    "pycharm": {
     "name": "#%% md\n"
    }
   },
   "source": [
    "## Exercícios - Aula 01"
   ]
  },
  {
   "attachments": {},
   "cell_type": "markdown",
   "metadata": {
    "collapsed": false,
    "pycharm": {
     "name": "#%% md\n"
    }
   },
   "source": [
    "1) Escolha um número entre 1 e 10 e armazene ele numa variável chamada *segredo*. Escolha outro número entre 1 e 10 novamente e salve ele numa variável chamada *chute*. Depois, escreva testes condicionais usando *if*, *else* e *elif* para exibir a mensagem \"muito menor\" se *chute* é menor do que *segredo*, \"muito maior\" se *chute* é maior do que *segredo* e \"na mosca\" se *chute* for igual à *segredo*.\n",
    "\n",
    "2) Escreva uma cadeia de instrucões *if*-*elif*-*else* que determine o estágio da vida de uma pessoa. Defina um valor para a variável *idade* e então:\n",
    "- Se a pessoa tiver menos de 2 anos de idade, mostre uma mensagem dizendo que ela ainda é um bebê.\n",
    "- Se a pessoa tiver pelo menos 2 anos, mas menos de 4, mostre uma mensagem dizendo que ela é uma crianca.\n",
    "- Se a pessoa tiver pelo menos 4 anos, mas menos de 13, mostre uma mensagem dizendo que ela é um(a) goroto(a).\n",
    "- Se a pessoa tiver pelo menos 13 anos, mas menos de 20, mostre uma mensagem dizendo que ela é um(a) adolescente.\n",
    "- Se a pessoa tiver pelo menos 20 anos, mas menos de 65, mostre uma mensagem dizendo que ela é um(a) adulto(a).\n",
    "- Se a pessoa tiver 65 anos ou mais, mostre uma mensagem dizendo que ela é uma pessoa idosa.\n",
    "\n",
    "3) Crie uma lista com cinco ou mais nomes de usuários, incluindo o nome \"admin\". Suponha que você esteja escrevendo um código que exibirá uma saudacão a cada usuário depois que eles fizerem login em um site. Percorra a lista com um laco e mostre uma saudacão para cada usuário:\n",
    "- Se o nome do usuário for \"admin\", mostre uma saudacão especial, por exemplo, \"Olá admin, gostaria de ver o relatório de status?\"\n",
    "- Caso contrário, mostre a saudacão genérica, como \"Olá José, obrigado por fazer login novamente\".\n",
    "\n",
    "4) A partir do exercício anterior, modifique o código criado para acrescentar um teste if que verifica se a lista de usuarios está vazia.\"Precisamos encontrar alguns usuários!\"\n",
    "- Se a lista de usuários estiver vazia, mostre a mensagem . Remova todos os nomes de usuários da lista e certifique-se de que essa mensagem aparecerá.\n",
    "\n",
    "5) Crie um programa que simule o modo como os sites garantem que todos tenham um nome de usuário único.\n",
    "- Crie uma lista chamada *current_users* com cinco ou mais nomes de usuários\n",
    "- Crie uma list chamada *new_users* com cinco nomes de usuários. Garanta que dois dos novos usuários também estejam na lista *current_users*\n",
    "- Percorra a lista *new_users* com um laco para ver se cada novo nome de usuário já foi usado. Em caso afirmativo, mostre uma mensagem afirmando que a pessoa deverá fornecer um novo nome. Se um usuário não foi usado, apresente uma mensagem dizendo que o nome do usuário está disponível.\n",
    "- Certifique-se de que sua comparacão não levará em conta as diferencas entre letras maiúsculas e minúsculas. Se \"Pedro\" foi usado, \"PEDRO\" não deverá ser aceito.\n",
    "\n",
    "6) Números ordinais indicam sua posicão em uma lista, por exemplo, 1st, 2nd, em inglês. A maioria dos números ordinais nessa língua termina com th, exceto, 1, 2 e 3.\n",
    "- Armazene os números de 1 a 9 em uma lista.\n",
    "- Pecorra essa lista com um laco.\n",
    "- Use uma cadeia de instrucões *if*-*elif*-*else* que exiba a terminacão apropriada para cada número ordinal. Sua saída deverá conter \"1st 2nd 3rd 4th 5th 6th 7th 8th 9th\" e cada resultado deve estar em uma linha separada\n"
   ]
  },
  {
   "cell_type": "code",
   "execution_count": 1,
   "metadata": {},
   "outputs": [
    {
     "name": "stdout",
     "output_type": "stream",
     "text": [
      "você chutou a resposta correta\n"
     ]
    }
   ],
   "source": [
    "chute = 5\n",
    "if chute == 5:\n",
    "    print('você chutou a resposta correta')\n",
    "else:\n",
    "    print('você chutou a resposta errada')"
   ]
  },
  {
   "cell_type": "code",
   "execution_count": 2,
   "metadata": {},
   "outputs": [
    {
     "name": "stdout",
     "output_type": "stream",
     "text": [
      "você acertou a resposta\n"
     ]
    }
   ],
   "source": [
    "segredo = 10\n",
    "if segredo == 10:\n",
    "    print('você acertou a resposta')\n",
    "else:\n",
    "    print('você errou a resposta')"
   ]
  },
  {
   "cell_type": "code",
   "execution_count": 3,
   "metadata": {},
   "outputs": [
    {
     "name": "stdout",
     "output_type": "stream",
     "text": [
      "muito menor\n"
     ]
    }
   ],
   "source": [
    "if chute < segredo:\n",
    " print ('muito menor')\n",
    "elif chute >segredo:\n",
    " print('muito maior')\n",
    "else:\n",
    " print('na mosca')"
   ]
  },
  {
   "cell_type": "code",
   "execution_count": 4,
   "metadata": {},
   "outputs": [
    {
     "name": "stdout",
     "output_type": "stream",
     "text": [
      "essa pessoa é um idoso\n"
     ]
    }
   ],
   "source": [
    "idade = 30\n",
    "\n",
    "if idade < 2:\n",
    "    print('essa pessoa é um bebê')\n",
    "elif idade <= 2 > 4:\n",
    "    print('essa pessoa é uma criança')\n",
    "elif idade == 4 > 13:\n",
    "    print('essa pessoa é um(a) garot(a)')\n",
    "elif idade == 13 > 20:\n",
    "    print('essa pessoa é um(a) adolescente')\n",
    "elif idade == 20 > 65:\n",
    "    print('essa pessoa é um adulto')\n",
    "else:\n",
    "    print('essa pessoa é um idoso')\n"
   ]
  },
  {
   "cell_type": "code",
   "execution_count": 5,
   "metadata": {},
   "outputs": [
    {
     "name": "stdout",
     "output_type": "stream",
     "text": [
      "Olá Bob obrigado(a) por fazer login novamente.\n",
      "Olá Tami obrigado(a) por fazer login novamente.\n",
      "Olá Laila obrigado(a) por fazer login novamente.\n",
      "Olá Cris obrigado(a) por fazer login novamente.\n",
      "Olá admin, gostaria de ver um relatório de status?\n"
     ]
    }
   ],
   "source": [
    "usuário = ['Bob','Tami','Laila','Cris','Admin']\n",
    "\n",
    "for usuário in usuário:\n",
    "    if usuário == 'Admin':\n",
    "        print('Olá admin, gostaria de ver um relatório de status?')\n",
    "    else:\n",
    "        print('Olá '+ usuário + ' obrigado(a) por fazer login novamente.')"
   ]
  },
  {
   "cell_type": "code",
   "execution_count": 6,
   "metadata": {},
   "outputs": [
    {
     "name": "stdout",
     "output_type": "stream",
     "text": [
      "Precisamos encontrar alguns usuarios!\n"
     ]
    }
   ],
   "source": [
    "usuário = []\n",
    "\n",
    "if usuário: #verifica se a lista esta vazia, se estiver vazia, retorna False e irá parar aqui.\n",
    "    \n",
    "    for usuário in usuário:\n",
    "        \n",
    "        if usuário == 'admin':\n",
    "            print('Olá admin, gostaria de ver um relatório de status?')\n",
    "        \n",
    "        else:\n",
    "            print('Olá '+ usuário + ' obrigado(a) por fazer login novamente.')\n",
    "\n",
    "else:\n",
    "    print('Precisamos encontrar alguns usuarios!')"
   ]
  },
  {
   "cell_type": "code",
   "execution_count": 7,
   "metadata": {},
   "outputs": [
    {
     "name": "stdout",
     "output_type": "stream",
     "text": [
      "Bob usuario existente, forneça um novo nome de usuario\n",
      "Laila usuario existente, forneça um novo nome de usuario\n",
      "Olá Marcos,seu nome esta diponivel para uso.\n",
      "Olá Lua,seu nome esta diponivel para uso.\n",
      "Olá Sara,seu nome esta diponivel para uso.\n"
     ]
    }
   ],
   "source": [
    "current_users = ['Bob','Tami','Laila','Cris','Admin']\n",
    "\n",
    "new_users = ['Bob','Laila','Marcos','Lua','Sara']\n",
    "\n",
    "for user in new_users:\n",
    "    \n",
    "    if user in current_users or user.lower() in current_users or user.lower() in current_users or user.title() in current_users:\n",
    "            print(user+ ' usuario existente, forneça um novo nome de usuario')\n",
    "    \n",
    "    else:\n",
    "        print(\"Olá \" + user + \",seu nome esta diponivel para uso.\")"
   ]
  },
  {
   "cell_type": "code",
   "execution_count": 8,
   "metadata": {},
   "outputs": [
    {
     "name": "stdout",
     "output_type": "stream",
     "text": [
      "1st\n",
      "2nd\n",
      "3rd\n",
      "4th\n",
      "5th\n",
      "6th\n",
      "7th\n",
      "8th\n",
      "9th\n"
     ]
    }
   ],
   "source": [
    "numeros = [1, 2, 3, 4, 5, 6, 7, 8, 9]\n",
    "\n",
    "for n in numeros:\n",
    "    if n == 1:\n",
    "        print(str(n) +'st')\n",
    "    elif n == 2:\n",
    "        print(str(n) +'nd')\n",
    "    elif n == 3:\n",
    "        print(str(n) + 'rd')\n",
    "    else:\n",
    "        print(str(n) + 'th')"
   ]
  }
 ],
 "metadata": {
  "kernelspec": {
   "display_name": "Python 3",
   "language": "python",
   "name": "python3"
  },
  "language_info": {
   "codemirror_mode": {
    "name": "ipython",
    "version": 3
   },
   "file_extension": ".py",
   "mimetype": "text/x-python",
   "name": "python",
   "nbconvert_exporter": "python",
   "pygments_lexer": "ipython3",
   "version": "3.10.4"
  },
  "vscode": {
   "interpreter": {
    "hash": "3ad933181bd8a04b432d3370b9dc3b0662ad032c4dfaa4e4f1596c548f763858"
   }
  }
 },
 "nbformat": 4,
 "nbformat_minor": 0
}
